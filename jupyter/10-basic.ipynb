{
 "cells": [
  {
   "cell_type": "markdown",
   "id": "e713586b",
   "metadata": {},
   "source": [
    "## 환경 설정"
   ]
  },
  {
   "cell_type": "code",
   "execution_count": 28,
   "id": "5536784f",
   "metadata": {},
   "outputs": [
    {
     "data": {
      "text/plain": [
       "True"
      ]
     },
     "execution_count": 28,
     "metadata": {},
     "output_type": "execute_result"
    }
   ],
   "source": [
    "from dotenv import load_dotenv\n",
    "\n",
    "load_dotenv()"
   ]
  },
  {
   "cell_type": "markdown",
   "id": "3616f4d8",
   "metadata": {},
   "source": [
    "### Callback 정의"
   ]
  },
  {
   "cell_type": "code",
   "execution_count": 22,
   "id": "f41c06a2",
   "metadata": {},
   "outputs": [],
   "source": [
    "from langfuse.langchain import CallbackHandler\n",
    "\n",
    "langfuse_handler = CallbackHandler()"
   ]
  },
  {
   "cell_type": "code",
   "execution_count": 23,
   "id": "0705f9d3",
   "metadata": {},
   "outputs": [],
   "source": [
    "import time\n",
    "import logging\n",
    "from datetime import datetime\n",
    "from typing import Dict, List, Any, Optional\n",
    "from langchain_core.callbacks import BaseCallbackHandler\n",
    "from langchain_core.outputs import LLMResult\n",
    "\n",
    "# 로깅 설정\n",
    "logging.basicConfig(\n",
    "    level=logging.INFO,\n",
    "    format='%(asctime)s - %(name)s - %(levelname)s - %(message)s'\n",
    ")\n",
    "\n",
    "class PerformanceMonitoringCallback(BaseCallbackHandler):\n",
    "    \"\"\"LLM 호출 성능을 모니터링하는 콜백 핸들러\"\"\"\n",
    "    \n",
    "    def __init__(self):\n",
    "        self.start_time: Optional[float] = None\n",
    "        self.token_usage: Dict[str, Any] = {}\n",
    "        self.call_count: int = 0\n",
    "        \n",
    "    def on_llm_start(\n",
    "        self, \n",
    "        serialized: Dict[str, Any], \n",
    "        prompts: List[str], \n",
    "        **kwargs: Any\n",
    "    ) -> None:\n",
    "        \"\"\"LLM 호출이 시작될 때 호출\"\"\"\n",
    "        self.start_time = time.time()\n",
    "        self.call_count += 1\n",
    "        print(f\"🚀 LLM 호출 #{self.call_count} 시작 - {datetime.now().strftime('%H:%M:%S')}\")\n",
    "        \n",
    "        # 첫 번째 프롬프트의 길이 확인\n",
    "        if prompts:\n",
    "            print(f\"📝 프롬프트 길이: {len(prompts[0])} 문자\")\n",
    "        \n",
    "    def on_llm_end(self, response: LLMResult, **kwargs: Any) -> None:\n",
    "        \"\"\"LLM 호출이 완료될 때 호출\"\"\"\n",
    "        if self.start_time:\n",
    "            duration = time.time() - self.start_time\n",
    "            print(f\"✅ LLM 호출 완료 - 소요시간: {duration:.2f}초\")\n",
    "            \n",
    "            # 토큰 사용량 추적\n",
    "            if response.generations:\n",
    "                generation = response.generations[0][0]\n",
    "                \n",
    "                # usage_metadata를 우선 확인 \n",
    "                if hasattr(generation, 'usage_metadata') and generation.usage_metadata:\n",
    "                    usage = generation.usage_metadata\n",
    "                    print(f\"🔢 토큰 사용량: {usage}\")\n",
    "                    self.token_usage = usage\n",
    "                    \n",
    "                # 구버전 호환성을 위한 llm_output 확인\n",
    "                elif hasattr(response, 'llm_output') and response.llm_output:\n",
    "                    usage = response.llm_output.get('token_usage', {})\n",
    "                    if usage:\n",
    "                        print(f\"🔢 토큰 사용량: {usage}\")\n",
    "                        self.token_usage = usage\n",
    "                        \n",
    "                # 응답 길이 체크\n",
    "                if hasattr(generation, 'text'):\n",
    "                    response_text = generation.text\n",
    "                    print(f\"📊 응답 길이: {len(response_text)} 문자\")\n",
    "        \n",
    "    def on_llm_error(self, error: Exception, **kwargs: Any) -> None:\n",
    "        \"\"\"LLM 호출에서 오류가 발생할 때 호출\"\"\"\n",
    "        print(f\"❌ LLM 호출 오류: {str(error)}\")\n",
    "        \n",
    "    def get_statistics(self) -> Dict[str, Any]:\n",
    "        \"\"\"현재까지의 통계 정보를 반환\"\"\"\n",
    "        return {\n",
    "            \"total_calls\": self.call_count,\n",
    "            \"last_token_usage\": self.token_usage\n",
    "        }"
   ]
  },
  {
   "cell_type": "markdown",
   "id": "95f9f105",
   "metadata": {},
   "source": [
    "## 1. 입력 데이터 정의"
   ]
  },
  {
   "cell_type": "code",
   "execution_count": 18,
   "id": "915c8652",
   "metadata": {},
   "outputs": [],
   "source": [
    "from enum import Enum, StrEnum, auto\n",
    "from datetime import datetime\n",
    "\n",
    "class Purpose(StrEnum):\n",
    "    \"\"\"Main purpose of the trip.\"\"\"\n",
    "    Healing = auto()         # Relaxation, rest\n",
    "    Activity = auto()        # Physical activities, outdoor adventures\n",
    "    Culture = auto()         # Cultural exploration, museums, heritage\n",
    "    Shopping = auto()        # Shopping-focused travel\n",
    "    Food = auto()            # Culinary-focused travel\n",
    "    Nature = auto()          # Enjoying natural scenery\n",
    "    Romance = auto()         # Romantic getaway\n",
    "    Photography = auto()     # Photography-centric travel\n",
    "\n",
    "class Companion(StrEnum):\n",
    "    \"\"\"Type of travel companion.\"\"\"\n",
    "    Solo = auto()            # Traveling alone\n",
    "    Couple = auto()          # Traveling with a partner\n",
    "    Family = auto()          # Family travel\n",
    "    Friends = auto()         # Trip with friends\n",
    "\n",
    "class Transport(StrEnum):\n",
    "    \"\"\"Preferred transport method.\"\"\"\n",
    "    Car = auto()             # Private vehicle\n",
    "    PublicTransport = auto() # Bus, subway, train, etc.\n",
    "    Walking = auto()         # On foot\n",
    "    Bike = auto()            # Bicycle or similar\n",
    "\n",
    "class PerPersonBudget(Enum):\n",
    "    \"\"\"Estimated budget per person in KRW.\"\"\"\n",
    "    ULTRA_BUDGET = (0, 50000, \"KRW\")          # 0 ~ 50,000 KRW\n",
    "    BUDGET = (50001, 150000, \"KRW\")           # 50,001 ~ 150,000 KRW\n",
    "    STANDARD = (150001, 300000, \"KRW\")        # 150,001 ~ 300,000 KRW\n",
    "    PREMIUM = (300001, 500000, \"KRW\")         # 300,001 ~ 500,000 KRW\n",
    "    LUXURY = (500001, float(\"inf\"), \"KRW\")    # 500,001 KRW and above\n",
    "\n",
    "    def __init__(self, min_price, max_price, currency):\n",
    "        self.min_price = min_price\n",
    "        self.max_price = max_price\n",
    "        self.currency = currency\n",
    "\n",
    "class SeasonPreference(StrEnum):\n",
    "    \"\"\"Preferred season for travel.\"\"\"\n",
    "    Spring = auto()\n",
    "    Summer = auto()\n",
    "    Autumn = auto()\n",
    "    Winter = auto()\n",
    "    NoPreference = auto()\n",
    "\n",
    "class ActivityLevel(StrEnum):\n",
    "    \"\"\"Preferred activity level.\"\"\"\n",
    "    Light = auto()      # Mostly rest\n",
    "    Moderate = auto()   # Balanced\n",
    "    Active = auto()     # High movement / long walking\n",
    "\n",
    "class UniqueExperience(StrEnum):\n",
    "    \"\"\"Optional unique or niche travel experiences.\"\"\"\n",
    "    TempleStay = auto()         # 사찰 체험, 템플스테이\n",
    "    LocalFestival = auto()      # 지역 축제 참여\n",
    "    NightView = auto()          # 야경 감상\n",
    "    HotSpring = auto()          # 온천\n",
    "    Island = auto()             # 섬 여행\n",
    "    HanokStay = auto()          # 한옥 숙박\n",
    "    HistoricalExperience = auto()  # 조선 시대 복식체험 등\n",
    "    HealingWorkshop = auto()    # 명상, 요가, 향 체험 등\n",
    "    Camping = auto()            # 캠핑, 글램핑 등\n",
    "    KPopHallyu = auto()         # K-POP, 한류 팬 투어\n",
    "    Other = auto()              # 기타 (자유 입력)\n"
   ]
  },
  {
   "cell_type": "markdown",
   "id": "dcd17d26",
   "metadata": {},
   "source": [
    "> 입력 예시"
   ]
  },
  {
   "cell_type": "code",
   "execution_count": 42,
   "id": "a81068ba",
   "metadata": {},
   "outputs": [],
   "source": [
    "user_profile_01 = {\n",
    "    \"purpose\": Purpose.Nature.value,\n",
    "    \"companion\": Companion.Family.value,\n",
    "    \"num_people\": 3,\n",
    "    \"has_pet\": False,\n",
    "    \"has_infant\": True,\n",
    "    \"transport\": Transport.Car.value,\n",
    "    \"per_person_budget\": PerPersonBudget.STANDARD.value,\n",
    "    \"target_location\": [(\"51\", \"230\")],\n",
    "    \"start_time\": \"20250801 09:00\",\n",
    "    \"end_time\": \"20250804 16:00\",\n",
    "    \"duration_days\": 3,\n",
    "    \"prefer_dense_schedule\": False,\n",
    "    \"season_preference\": SeasonPreference.Summer.value,\n",
    "    \"activity_level\": ActivityLevel.Moderate.value,\n",
    "    \"unique_experiences\": [\n",
    "        UniqueExperience.HotSpring.value,\n",
    "        UniqueExperience.NightView.value,\n",
    "        UniqueExperience.Other.value\n",
    "    ],\n",
    "    \"custom_experience_note\": \"아이와 함께 체험할 수 있는 자연놀이터\",\n",
    "    \"additional_notes\": \"아이랑 같이 쉬기 좋은 숙소 위주\"\n",
    "}\n",
    "user_profile_02 = {\n",
    "    \"purpose\": Purpose.Healing.value,\n",
    "    \"companion\": Companion.Couple.value,\n",
    "    \"num_people\": 2,\n",
    "    \"has_pet\": False,\n",
    "    \"has_infant\": False,\n",
    "    \"transport\": Transport.PublicTransport.value,\n",
    "    \"per_person_budget\": PerPersonBudget.PREMIUM.value,\n",
    "    \"target_location\": [(\"50\", \"110\"), (\"50\", \"130\")],\n",
    "    \"start_time\": \"20250910 15:00\",\n",
    "    \"end_time\": \"20250911 20:00\",\n",
    "    \"duration_days\": 2,\n",
    "    \"prefer_dense_schedule\": False,\n",
    "    \"season_preference\": SeasonPreference.Autumn.value,\n",
    "    \"activity_level\": ActivityLevel.Light.value,\n",
    "    \"unique_experiences\": [\n",
    "        UniqueExperience.NightView.value,\n",
    "        UniqueExperience.Other.value\n",
    "    ],\n",
    "    \"custom_experience_note\": \"별을 볼 수 있는 조용한 야외 공간\",\n",
    "    \"additional_notes\": \"혼잡하지 않은 한적한 곳 선호\"\n",
    "}\n",
    "\n",
    "user_profile_03 = {\n",
    "    \"purpose\": Purpose.Culture.value,\n",
    "    \"companion\": Companion.Family.value,\n",
    "    \"num_people\": 7,\n",
    "    \"has_pet\": False,\n",
    "    \"has_infant\": True,\n",
    "    \"transport\": Transport.Car.value,\n",
    "    \"per_person_budget\": PerPersonBudget.STANDARD.value,\n",
    "    \"target_location\": [(\"47\", \"130\")],\n",
    "    \"start_time\": \"20251003 08:30\",\n",
    "    \"end_time\": \"20251005 18:00\",\n",
    "    \"duration_days\": 3,\n",
    "    \"prefer_dense_schedule\": False,\n",
    "    \"season_preference\": SeasonPreference.Autumn.value,\n",
    "    \"activity_level\": ActivityLevel.Light.value,\n",
    "    \"unique_experiences\": [\n",
    "        UniqueExperience.TempleStay.value,\n",
    "        UniqueExperience.HistoricalExperience.value\n",
    "    ],\n",
    "    \"custom_experience_note\": \"\",\n",
    "    \"additional_notes\": \"아이와 어르신 모두 즐길 수 있는 전통문화 체험이 필요합니다. 편안한 숙소와 쉬는 시간 많은 일정이 좋습니다.\"\n",
    "}"
   ]
  },
  {
   "cell_type": "markdown",
   "id": "43b1da2d",
   "metadata": {},
   "source": [
    "## 2. 카테고리 조회를 위한 Text2SQL 에이전트 정의"
   ]
  },
  {
   "cell_type": "markdown",
   "id": "acaf52f2",
   "metadata": {},
   "source": [
    "### 1\\) 카테고리 벡터화\n",
    "\n",
    "- 사용자 맞춤형 관광지를 의미 및 키워드 기반으로 탐색하기 위한 작업임"
   ]
  },
  {
   "cell_type": "code",
   "execution_count": 58,
   "id": "9de98183",
   "metadata": {},
   "outputs": [],
   "source": [
    "import ast\n",
    "import re\n",
    "\n",
    "from langchain_chroma import Chroma\n",
    "from langchain_openai import OpenAIEmbeddings\n",
    "\n",
    "from langchain_community.utilities import SQLDatabase\n",
    "from langchain_community.retrievers import BM25Retriever\n",
    "\n",
    "from langchain.retrievers import EnsembleRetriever\n",
    "\n",
    "from kiwipiepy import Kiwi\n",
    "\n",
    "\n",
    "def query_as_list(db, query):\n",
    "    res = db.run(query)\n",
    "    res = [el for sub in ast.literal_eval(res) for el in sub if el]\n",
    "    res = [re.sub(r\"\\b\\d+\\b\", \"\", string).strip() for string in res]\n",
    "    return list(set(res))\n",
    "\n",
    "db = SQLDatabase.from_uri(\n",
    "    \"sqlite:///../kto_data.db\"\n",
    ")\n",
    "\n",
    "# 벡터화 작업 리스트\n",
    "# cat_1 = query_as_list(\n",
    "#     db, \n",
    "#     \"SELECT DISTINCT lclsSystm1Nm 종목명 FROM lclsSystmCode2\"\n",
    "# )\n",
    "cat_2 = query_as_list(\n",
    "    db, \n",
    "    \"SELECT DISTINCT lclsSystm2Nm 종목명 FROM lclsSystmCode2\"\n",
    ")\n",
    "cat_3 = query_as_list(\n",
    "    db, \n",
    "    \"SELECT DISTINCT lclsSystm3Nm 종목명 FROM lclsSystmCode2\"\n",
    ")\n",
    "\n",
    "# 임베딩 모델 정의\n",
    "embeddings = OpenAIEmbeddings(model=\"text-embedding-3-small\")\n",
    "\n",
    "# 임베딩 벡터 저장소 및 검색기 생성\n",
    "chroma_db = Chroma(\n",
    "    collection_name=\"category\",\n",
    "    embedding_function=embeddings,\n",
    "    persist_directory=\"../vs\",\n",
    ")\n",
    "data_add = False # 데이터를 벡터스토어에 저장 여부 * 나중에 언어별 추가 필요\n",
    "data = list(set(cat_2 + cat_3))\n",
    "kiwi = Kiwi()\n",
    "\n",
    "if data_add:\n",
    "    # 데이터를 벡터스토어에 저장\n",
    "    chroma_db.add_texts(data)       \n",
    "\n",
    "retriever = chroma_db.as_retriever(\n",
    "    search_kwargs={\"k\": 10}\n",
    ")\n",
    "bm25_retriever = BM25Retriever.from_texts(\n",
    "    texts=data,\n",
    "    preprocess_func=lambda x: [t.form for t in kiwi.tokenize(x)]\n",
    ")\n",
    "ensemble_retriever = EnsembleRetriever(\n",
    "    retrievers=[retriever, bm25_retriever], \n",
    "    weights=[0.5, 0.5]          \n",
    ")"
   ]
  },
  {
   "cell_type": "code",
   "execution_count": 59,
   "id": "72a12f88",
   "metadata": {},
   "outputs": [
    {
     "data": {
      "text/plain": [
       "[Document(id='7cc7b3d0-db22-47c6-888e-dc8a5fafb142', metadata={}, page_content='농.산.어촌 체험'),\n",
       " Document(metadata={}, page_content='산, 고개, 오름, 봉우리'),\n",
       " Document(id='14bc465e-038b-45f0-a0d5-d2c127154436', metadata={}, page_content='행사'),\n",
       " Document(metadata={}, page_content='고분, 능'),\n",
       " Document(id='c8b34fad-7f9a-476c-9a5b-f40876e98688', metadata={}, page_content='행사시설'),\n",
       " Document(metadata={}, page_content='피자, 햄버거, 샌드위치 및 유사음식'),\n",
       " Document(id='bc8d2036-653b-4cbd-b31e-e76d1035980c', metadata={}, page_content='기타행사'),\n",
       " Document(metadata={}, page_content='골목길, 문화거리'),\n",
       " Document(id='220efeaf-74eb-4eb6-a136-0cf0e670ec3f', metadata={}, page_content='생태관광지'),\n",
       " Document(id='1e6ab10f-89b9-46f6-aead-e5a5e76770d3', metadata={}, page_content='모텔'),\n",
       " Document(id='9e76ce47-52fa-413b-be47-cee6709ccec5', metadata={}, page_content='동물원'),\n",
       " Document(id='a2908c28-89e4-405a-acb9-d2c1fab0392d', metadata={}, page_content='기타자연생태'),\n",
       " Document(id='4e2d1ff0-9aa0-41ff-9d9a-181a686e2036', metadata={}, page_content='기타자연관광'),\n",
       " Document(id='37d6c463-389d-49d6-b7ed-7fa291e18606', metadata={}, page_content='농어촌민박')]"
      ]
     },
     "execution_count": 59,
     "metadata": {},
     "output_type": "execute_result"
    }
   ],
   "source": [
    "import json\n",
    "\n",
    "result_01 = ensemble_retriever.invoke(json.dumps(user_profile_01))\n",
    "result_01"
   ]
  },
  {
   "cell_type": "code",
   "execution_count": 60,
   "id": "b2983ff0",
   "metadata": {},
   "outputs": [
    {
     "data": {
      "text/plain": [
       "[Document(id='14bc465e-038b-45f0-a0d5-d2c127154436', metadata={}, page_content='행사'),\n",
       " Document(metadata={}, page_content='산, 고개, 오름, 봉우리'),\n",
       " Document(id='c8b34fad-7f9a-476c-9a5b-f40876e98688', metadata={}, page_content='행사시설'),\n",
       " Document(metadata={}, page_content='고분, 능'),\n",
       " Document(id='bc8d2036-653b-4cbd-b31e-e76d1035980c', metadata={}, page_content='기타행사'),\n",
       " Document(metadata={}, page_content='피자, 햄버거, 샌드위치 및 유사음식'),\n",
       " Document(id='1e6ab10f-89b9-46f6-aead-e5a5e76770d3', metadata={}, page_content='모텔'),\n",
       " Document(metadata={}, page_content='골목길, 문화거리'),\n",
       " Document(id='1619be02-68d9-4780-aafd-e29aecb4873b', metadata={}, page_content='유람선/잠수함관광'),\n",
       " Document(id='7cc7b3d0-db22-47c6-888e-dc8a5fafb142', metadata={}, page_content='농.산.어촌 체험'),\n",
       " Document(id='09dc04fc-0f81-43eb-b638-976611469c4a', metadata={}, page_content='관광식당'),\n",
       " Document(id='9e76ce47-52fa-413b-be47-cee6709ccec5', metadata={}, page_content='동물원'),\n",
       " Document(id='ecd6f8ae-6c0f-4c71-af5e-8eeac098f921', metadata={}, page_content='복합관광시설'),\n",
       " Document(id='b06144ae-4d9b-453d-8549-a185c8ab4da7', metadata={}, page_content='관광단지')]"
      ]
     },
     "execution_count": 60,
     "metadata": {},
     "output_type": "execute_result"
    }
   ],
   "source": [
    "result_02 = ensemble_retriever.invoke(json.dumps(user_profile_02))\n",
    "result_02"
   ]
  },
  {
   "cell_type": "code",
   "execution_count": 61,
   "id": "80399769",
   "metadata": {},
   "outputs": [
    {
     "data": {
      "text/plain": [
       "[Document(id='14bc465e-038b-45f0-a0d5-d2c127154436', metadata={}, page_content='행사'),\n",
       " Document(metadata={}, page_content='산, 고개, 오름, 봉우리'),\n",
       " Document(id='7cc7b3d0-db22-47c6-888e-dc8a5fafb142', metadata={}, page_content='농.산.어촌 체험'),\n",
       " Document(metadata={}, page_content='고분, 능'),\n",
       " Document(id='c8b34fad-7f9a-476c-9a5b-f40876e98688', metadata={}, page_content='행사시설'),\n",
       " Document(metadata={}, page_content='피자, 햄버거, 샌드위치 및 유사음식'),\n",
       " Document(id='bc8d2036-653b-4cbd-b31e-e76d1035980c', metadata={}, page_content='기타행사'),\n",
       " Document(metadata={}, page_content='골목길, 문화거리'),\n",
       " Document(id='1e6ab10f-89b9-46f6-aead-e5a5e76770d3', metadata={}, page_content='모텔'),\n",
       " Document(id='46001330-3bd1-482b-a818-9542e16b57af', metadata={}, page_content='한국문화원'),\n",
       " Document(id='9989f801-5dee-40a3-8977-1f2b8dc1bdd5', metadata={}, page_content='문화관광축제'),\n",
       " Document(id='c7141552-758c-4b70-9c4c-ce91128833f9', metadata={}, page_content='자연경관(하천‧해양)'),\n",
       " Document(id='09dc04fc-0f81-43eb-b638-976611469c4a', metadata={}, page_content='관광식당'),\n",
       " Document(id='b06144ae-4d9b-453d-8549-a185c8ab4da7', metadata={}, page_content='관광단지')]"
      ]
     },
     "execution_count": 61,
     "metadata": {},
     "output_type": "execute_result"
    }
   ],
   "source": [
    "result_03 = ensemble_retriever.invoke(json.dumps(user_profile_03))\n",
    "result_03"
   ]
  },
  {
   "cell_type": "code",
   "execution_count": null,
   "id": "099ec8d9",
   "metadata": {},
   "outputs": [],
   "source": []
  },
  {
   "cell_type": "code",
   "execution_count": 9,
   "id": "5818e76e",
   "metadata": {},
   "outputs": [
    {
     "data": {
      "text/plain": [
       "AIMessage(content='Hello! How can I help you today?', additional_kwargs={}, response_metadata={'prompt_feedback': {'block_reason': 0, 'safety_ratings': []}, 'finish_reason': 'STOP', 'model_name': 'gemini-2.5-flash', 'safety_ratings': []}, id='run--a55fa48c-2331-49c6-b86d-2442b085aa49-0', usage_metadata={'input_tokens': 2, 'output_tokens': 9, 'total_tokens': 234, 'input_token_details': {'cache_read': 0}, 'output_token_details': {'reasoning': 223}})"
      ]
     },
     "execution_count": 9,
     "metadata": {},
     "output_type": "execute_result"
    }
   ],
   "source": [
    "from langchain_google_genai import ChatGoogleGenerativeAI\n",
    "\n",
    "model = ChatGoogleGenerativeAI(\n",
    "    model=\"gemini-2.5-flash\",\n",
    ")\n",
    "\n",
    "model.invoke(\"Hello\")"
   ]
  },
  {
   "cell_type": "code",
   "execution_count": null,
   "id": "ceb33ac8",
   "metadata": {},
   "outputs": [],
   "source": []
  }
 ],
 "metadata": {
  "kernelspec": {
   "display_name": "ktrip-bot",
   "language": "python",
   "name": "python3"
  },
  "language_info": {
   "codemirror_mode": {
    "name": "ipython",
    "version": 3
   },
   "file_extension": ".py",
   "mimetype": "text/x-python",
   "name": "python",
   "nbconvert_exporter": "python",
   "pygments_lexer": "ipython3",
   "version": "3.12.10"
  }
 },
 "nbformat": 4,
 "nbformat_minor": 5
}
