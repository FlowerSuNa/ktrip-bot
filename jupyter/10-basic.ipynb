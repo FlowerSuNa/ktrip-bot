{
 "cells": [
  {
   "cell_type": "markdown",
   "id": "e713586b",
   "metadata": {},
   "source": [
    "## 환경 설정"
   ]
  },
  {
   "cell_type": "code",
   "execution_count": 1,
   "id": "5536784f",
   "metadata": {},
   "outputs": [
    {
     "data": {
      "text/plain": [
       "True"
      ]
     },
     "execution_count": 1,
     "metadata": {},
     "output_type": "execute_result"
    }
   ],
   "source": [
    "from dotenv import load_dotenv\n",
    "\n",
    "load_dotenv()"
   ]
  },
  {
   "cell_type": "markdown",
   "id": "23879869",
   "metadata": {},
   "source": [
    "### Chroma 특정 Collection 제거"
   ]
  },
  {
   "cell_type": "code",
   "execution_count": 63,
   "id": "b932f051",
   "metadata": {},
   "outputs": [
    {
     "name": "stdout",
     "output_type": "stream",
     "text": [
      "c:\\Users\\CNXK\\Documents\\ktrip-bot\\vs\n"
     ]
    }
   ],
   "source": [
    "import os\n",
    "print(os.path.abspath(\"../vs\"))"
   ]
  },
  {
   "cell_type": "code",
   "execution_count": 65,
   "id": "03fb4648",
   "metadata": {},
   "outputs": [
    {
     "data": {
      "text/plain": [
       "[]"
      ]
     },
     "execution_count": 65,
     "metadata": {},
     "output_type": "execute_result"
    }
   ],
   "source": [
    "from chromadb import Client\n",
    "from chromadb.config import Settings\n",
    "\n",
    "client = Client(Settings(persist_directory=\"../vs\"))\n",
    "collections = client.list_collections()\n",
    "collections"
   ]
  },
  {
   "cell_type": "code",
   "execution_count": 59,
   "id": "f33aa91b",
   "metadata": {},
   "outputs": [
    {
     "name": "stdout",
     "output_type": "stream",
     "text": [
      "⚠️ 컬렉션 삭제 실패: Collection [category] does not exists\n"
     ]
    }
   ],
   "source": [
    "# 삭제할 컬렉션 이름\n",
    "collection_name = \"\"\n",
    "\n",
    "# 해당 컬렉션이 존재하면 삭제\n",
    "try:\n",
    "    client.delete_collection(name=collection_name)\n",
    "    print(f\"✅ 컬렉션 '{collection_name}' 삭제 완료.\")\n",
    "except Exception as e:\n",
    "    print(f\"⚠️ 컬렉션 삭제 실패: {e}\")\n"
   ]
  },
  {
   "cell_type": "markdown",
   "id": "3616f4d8",
   "metadata": {},
   "source": [
    "### Callback 정의"
   ]
  },
  {
   "cell_type": "code",
   "execution_count": 2,
   "id": "f41c06a2",
   "metadata": {},
   "outputs": [],
   "source": [
    "from langfuse.langchain import CallbackHandler\n",
    "\n",
    "langfuse_handler = CallbackHandler()"
   ]
  },
  {
   "cell_type": "code",
   "execution_count": 3,
   "id": "0705f9d3",
   "metadata": {},
   "outputs": [],
   "source": [
    "import time\n",
    "import logging\n",
    "from datetime import datetime\n",
    "from typing import Dict, List, Any, Optional\n",
    "from langchain_core.callbacks import BaseCallbackHandler\n",
    "from langchain_core.outputs import LLMResult\n",
    "\n",
    "# 로깅 설정\n",
    "logging.basicConfig(\n",
    "    level=logging.INFO,\n",
    "    format='%(asctime)s - %(name)s - %(levelname)s - %(message)s'\n",
    ")\n",
    "\n",
    "class PerformanceMonitoringCallback(BaseCallbackHandler):\n",
    "    \"\"\"LLM 호출 성능을 모니터링하는 콜백 핸들러\"\"\"\n",
    "    \n",
    "    def __init__(self):\n",
    "        self.start_time: Optional[float] = None\n",
    "        self.token_usage: Dict[str, Any] = {}\n",
    "        self.call_count: int = 0\n",
    "        \n",
    "    def on_llm_start(\n",
    "        self, \n",
    "        serialized: Dict[str, Any], \n",
    "        prompts: List[str], \n",
    "        **kwargs: Any\n",
    "    ) -> None:\n",
    "        \"\"\"LLM 호출이 시작될 때 호출\"\"\"\n",
    "        self.start_time = time.time()\n",
    "        self.call_count += 1\n",
    "        print(f\"🚀 LLM 호출 #{self.call_count} 시작 - {datetime.now().strftime('%H:%M:%S')}\")\n",
    "        \n",
    "        # 첫 번째 프롬프트의 길이 확인\n",
    "        if prompts:\n",
    "            print(f\"📝 프롬프트 길이: {len(prompts[0])} 문자\")\n",
    "        \n",
    "    def on_llm_end(self, response: LLMResult, **kwargs: Any) -> None:\n",
    "        \"\"\"LLM 호출이 완료될 때 호출\"\"\"\n",
    "        if self.start_time:\n",
    "            duration = time.time() - self.start_time\n",
    "            print(f\"✅ LLM 호출 완료 - 소요시간: {duration:.2f}초\")\n",
    "            \n",
    "            # 토큰 사용량 추적\n",
    "            if response.generations:\n",
    "                generation = response.generations[0][0]\n",
    "                \n",
    "                # usage_metadata를 우선 확인 \n",
    "                if hasattr(generation, 'usage_metadata') and generation.usage_metadata:\n",
    "                    usage = generation.usage_metadata\n",
    "                    print(f\"🔢 토큰 사용량: {usage}\")\n",
    "                    self.token_usage = usage\n",
    "                    \n",
    "                # 구버전 호환성을 위한 llm_output 확인\n",
    "                elif hasattr(response, 'llm_output') and response.llm_output:\n",
    "                    usage = response.llm_output.get('token_usage', {})\n",
    "                    if usage:\n",
    "                        print(f\"🔢 토큰 사용량: {usage}\")\n",
    "                        self.token_usage = usage\n",
    "                        \n",
    "                # 응답 길이 체크\n",
    "                if hasattr(generation, 'text'):\n",
    "                    response_text = generation.text\n",
    "                    print(f\"📊 응답 길이: {len(response_text)} 문자\")\n",
    "        \n",
    "    def on_llm_error(self, error: Exception, **kwargs: Any) -> None:\n",
    "        \"\"\"LLM 호출에서 오류가 발생할 때 호출\"\"\"\n",
    "        print(f\"❌ LLM 호출 오류: {str(error)}\")\n",
    "        \n",
    "    def get_statistics(self) -> Dict[str, Any]:\n",
    "        \"\"\"현재까지의 통계 정보를 반환\"\"\"\n",
    "        return {\n",
    "            \"total_calls\": self.call_count,\n",
    "            \"last_token_usage\": self.token_usage\n",
    "        }"
   ]
  },
  {
   "cell_type": "markdown",
   "id": "1c80bf24",
   "metadata": {},
   "source": [
    "---\n",
    "\n",
    "# 사용자 입력 정의"
   ]
  },
  {
   "cell_type": "markdown",
   "id": "a1b8c223",
   "metadata": {},
   "source": [
    "## 1. 여행 간편 조건"
   ]
  },
  {
   "cell_type": "code",
   "execution_count": 70,
   "id": "86e7f10a",
   "metadata": {},
   "outputs": [],
   "source": [
    "from enum import Enum, StrEnum, auto"
   ]
  },
  {
   "cell_type": "code",
   "execution_count": 71,
   "id": "e0f2c625",
   "metadata": {},
   "outputs": [],
   "source": [
    "users = [{},{},{},{},{}] # 사용자 예시"
   ]
  },
  {
   "cell_type": "markdown",
   "id": "def0c05e",
   "metadata": {},
   "source": [
    "### 누구와 여행하시나요?"
   ]
  },
  {
   "cell_type": "code",
   "execution_count": 72,
   "id": "73b33b79",
   "metadata": {},
   "outputs": [],
   "source": [
    "class Companion(StrEnum):\n",
    "    \"\"\"Type of travel companion.\"\"\"\n",
    "    Solo = auto()            # Traveling alone\n",
    "    Couple = auto()          # Traveling with a partner\n",
    "    Family = auto()          # Family travel\n",
    "    Friends = auto()         # Trip with friends"
   ]
  },
  {
   "cell_type": "code",
   "execution_count": 73,
   "id": "64b23ef4",
   "metadata": {},
   "outputs": [],
   "source": [
    "users[0][\"companion\"] = Companion.Family.value\n",
    "users[1][\"companion\"] = Companion.Couple.value\n",
    "users[2][\"companion\"] = Companion.Family.value\n",
    "users[3][\"companion\"] = Companion.Solo.value\n",
    "users[4][\"companion\"] = Companion.Friends.value"
   ]
  },
  {
   "cell_type": "markdown",
   "id": "cc7e68ff",
   "metadata": {},
   "source": [
    "### 어떤 분위기의 여행을 원하세요?"
   ]
  },
  {
   "cell_type": "code",
   "execution_count": 74,
   "id": "c44f6877",
   "metadata": {},
   "outputs": [],
   "source": [
    "class TravelPurpose(StrEnum):\n",
    "    Relaxation = auto()         # 휴식 / 힐링\n",
    "    Nature = auto()             # 자연 감상\n",
    "    Adventure = auto()          # 레저 스포츠 / 액티비티\n",
    "    Culture = auto()            # 역사 / 전통 문화 체험\n",
    "    Festival = auto()           # 축제 / 공연 / 이벤트\n",
    "    Gourmet = auto()            # 맛집 탐방 / 미식 여행\n",
    "    Family = auto()             # 가족 중심 여행 (아이 포함)\n",
    "    Romance = auto()            # 연인과의 로맨틱 여행\n",
    "    CityTour = auto()           # 도시 탐방\n",
    "    Shopping = auto()           # 쇼핑"
   ]
  },
  {
   "cell_type": "code",
   "execution_count": 75,
   "id": "9ffea9a3",
   "metadata": {},
   "outputs": [],
   "source": [
    "users[0][\"purpose\"] = [TravelPurpose.Nature.value, \n",
    "                       TravelPurpose.Culture.value,\n",
    "                       TravelPurpose.Family.value]\n",
    "users[1][\"purpose\"] = [TravelPurpose.Relaxation.value,\n",
    "                       TravelPurpose.Gourmet.value,\n",
    "                       TravelPurpose.Romance.value]\n",
    "users[2][\"purpose\"] = [TravelPurpose.Culture.value,\n",
    "                       TravelPurpose.Family.value]\n",
    "users[3][\"purpose\"] = [TravelPurpose.Relaxation.value]\n",
    "users[4][\"purpose\"] = [TravelPurpose.Adventure.value,\n",
    "                       TravelPurpose.Gourmet.value,\n",
    "                       TravelPurpose.Shopping.value]"
   ]
  },
  {
   "cell_type": "markdown",
   "id": "6f96eeda",
   "metadata": {},
   "source": [
    "### 언제부터 언제까지 가시나요?"
   ]
  },
  {
   "cell_type": "code",
   "execution_count": 77,
   "id": "3bf219b2",
   "metadata": {},
   "outputs": [],
   "source": [
    "users[0][\"start_time\"] = \"20250801 09:00\"\n",
    "users[0][\"end_time\"] = \"20250804 16:00\"\n",
    "\n",
    "users[1][\"start_time\"] = \"20250910 15:00\"\n",
    "users[1][\"end_time\"] = \"20250911 20:00\"\n",
    "\n",
    "users[2][\"start_time\"] = \"20251003 08:30\"\n",
    "users[2][\"end_time\"] = \"20251005 18:00\"\n",
    "\n",
    "users[3][\"start_time\"] = \"20250810 10:00\"\n",
    "users[3][\"end_time\"] = \"20250817 16:00\"\n",
    "\n",
    "users[4][\"start_time\"] = \"20250816 08:00\"\n",
    "users[4][\"end_time\"] = \"20250818 18:00\""
   ]
  },
  {
   "cell_type": "markdown",
   "id": "b4823b51",
   "metadata": {},
   "source": [
    "### 추가로 요청하실 내용이 있다면 자유롭게 적어주세요"
   ]
  },
  {
   "cell_type": "code",
   "execution_count": 78,
   "id": "20e4bb41",
   "metadata": {},
   "outputs": [],
   "source": [
    "users[0][\"notes\"] = \"아이와 함께 체험할 수 있는 자연놀이터&아이랑 같이 쉬기 좋은 숙소 위주\"\n",
    "users[1][\"notes\"] = \"별을 볼 수 있는 조용한 야외 공간\\n혼잡하지 않은 한적한 곳 선호\"\n",
    "users[2][\"notes\"] = \"아이와 어르신 모두 즐길 수 있는 전통문화 체험이 필요합니다. 편안한 숙소와 쉬는 시간 많은 일정이 좋습니다.\"\n",
    "users[3][\"notes\"] = \"조용한 바닷가 산책과 책 읽기 좋은 숙소, 휴식 위주의 일정, 혼자서 조용히 자연을 느낄 수 있는 장소 중심\"\n",
    "users[4][\"notes\"] = \"익스트림 스포츠와 액티비티(짚라인, 패러글라이딩, 서핑)가 밀집된 지역 중심으로 추천\""
   ]
  },
  {
   "cell_type": "markdown",
   "id": "67ac1e48",
   "metadata": {},
   "source": [
    "## 2. 상세 조건"
   ]
  },
  {
   "cell_type": "markdown",
   "id": "8dc0436b",
   "metadata": {},
   "source": [
    "### 총 몇 명이 함께 여행하시나요? (아이, 어르신 포함)"
   ]
  },
  {
   "cell_type": "code",
   "execution_count": 85,
   "id": "288dbeb1",
   "metadata": {},
   "outputs": [],
   "source": [
    "users[0][\"num_people\"] = 3\n",
    "users[2][\"num_people\"] = 7\n",
    "users[4][\"num_people\"] = 3"
   ]
  },
  {
   "cell_type": "markdown",
   "id": "ccd0b013",
   "metadata": {},
   "source": [
    "### 아이(영유아 또는 어린이)가 포함되어 있나요?"
   ]
  },
  {
   "cell_type": "code",
   "execution_count": 86,
   "id": "fc57e311",
   "metadata": {},
   "outputs": [],
   "source": [
    "users[0][\"has_infant\"] = True\n",
    "users[2][\"has_infant\"] = True\n",
    "users[4][\"has_infant\"] = False"
   ]
  },
  {
   "cell_type": "markdown",
   "id": "48839868",
   "metadata": {},
   "source": [
    "### 어르신(고령자)이 포함되어 있나요?"
   ]
  },
  {
   "cell_type": "code",
   "execution_count": 87,
   "id": "55293b04",
   "metadata": {},
   "outputs": [],
   "source": [
    "users[0][\"has_elder\"] = False\n",
    "users[2][\"has_elder\"] = True\n",
    "users[4][\"has_elder\"] = False"
   ]
  },
  {
   "cell_type": "markdown",
   "id": "6a2a1dce",
   "metadata": {},
   "source": [
    "### 반려동물(강아지/고양이 등)도 함께 여행하시나요?"
   ]
  },
  {
   "cell_type": "code",
   "execution_count": 88,
   "id": "3a2e4cd3",
   "metadata": {},
   "outputs": [],
   "source": [
    "users[0][\"has_pet\"] = True\n",
    "users[2][\"has_pet\"] = False\n",
    "users[4][\"has_pet\"] = True"
   ]
  },
  {
   "cell_type": "markdown",
   "id": "90d52a9c",
   "metadata": {},
   "source": [
    "### 여행 중엔 어떤 교통수단을 사용하실 계획인가요?"
   ]
  },
  {
   "cell_type": "code",
   "execution_count": 89,
   "id": "6791940f",
   "metadata": {},
   "outputs": [],
   "source": [
    "class Transport(StrEnum):\n",
    "    \"\"\"Preferred transport method.\"\"\"\n",
    "    Car = auto()             # Private vehicle\n",
    "    PublicTransport = auto() # Bus, subway, train, etc.\n",
    "    Walking = auto()         # On foot\n",
    "    Bike = auto()            # Bicycle or similar"
   ]
  },
  {
   "cell_type": "code",
   "execution_count": 90,
   "id": "c53dc606",
   "metadata": {},
   "outputs": [],
   "source": [
    "users[0][\"transport\"] = Transport.Car.value\n",
    "users[2][\"transport\"] = Transport.Car.value\n",
    "users[4][\"transport\"] = Transport.PublicTransport.value"
   ]
  },
  {
   "cell_type": "markdown",
   "id": "8e4567a0",
   "metadata": {},
   "source": [
    "### 1인당 여행 예산은 어느 정도로 생각하고 계신가요?"
   ]
  },
  {
   "cell_type": "code",
   "execution_count": 91,
   "id": "a22db2ce",
   "metadata": {},
   "outputs": [],
   "source": [
    "users[0][\"per_person_budget\"] = \"200,000 KRW\"\n",
    "users[2][\"per_person_budget\"] = \"150,000 KRW\"\n",
    "users[4][\"per_person_budget\"] = \"100,000 KRW\""
   ]
  },
  {
   "cell_type": "markdown",
   "id": "7b237bf3",
   "metadata": {},
   "source": [
    "---\n",
    "\n",
    "# 관광지 정보 탐색"
   ]
  },
  {
   "cell_type": "markdown",
   "id": "43b1da2d",
   "metadata": {},
   "source": [
    "## 1. 관광지 카테고리 조회"
   ]
  },
  {
   "cell_type": "markdown",
   "id": "acaf52f2",
   "metadata": {},
   "source": [
    "### 1\\) 카테고리 벡터화\n",
    "\n",
    "- 사용자 여행 조건을 의미 기반 및 키워드 중심으로 표현하여, 맞춤형 추천과 탐색이 가능하도록 벡터화하는 작업임"
   ]
  },
  {
   "cell_type": "code",
   "execution_count": 82,
   "id": "9de98183",
   "metadata": {},
   "outputs": [],
   "source": [
    "import ast\n",
    "import re\n",
    "\n",
    "from langchain_chroma import Chroma\n",
    "from langchain_openai import OpenAIEmbeddings\n",
    "\n",
    "from langchain_community.utilities import SQLDatabase\n",
    "from langchain_community.retrievers import BM25Retriever\n",
    "\n",
    "from langchain.retrievers import EnsembleRetriever\n",
    "\n",
    "\n",
    "def query_as_list(db, query):\n",
    "    res = db.run(query)\n",
    "    res = [el for sub in ast.literal_eval(res) for el in sub if el]\n",
    "    res = [re.sub(r\"\\b\\d+\\b\", \"\", string).strip() for string in res]\n",
    "    return list(set(res))\n",
    "\n",
    "db = SQLDatabase.from_uri(\n",
    "    \"sqlite:///../kto_data.db\"\n",
    ")\n",
    "\n",
    "# 벡터화 작업 리스트\n",
    "sql = \"\"\"\n",
    "SELECT DISTINCT lclsSystm3Nm\n",
    "FROM lclsSystmCode2\n",
    "WHERE lclsSystm1Cd <> 'AC' -- 숙박\n",
    "AND lclsSystm2Cd <> 'VE11' -- 교통시설\n",
    "-- AND lang = 'Eng'\n",
    "\"\"\"\n",
    "data = query_as_list(db, sql)\n",
    "\n",
    "# 임베딩 모델 정의\n",
    "embeddings = OpenAIEmbeddings(model=\"text-embedding-3-small\")\n",
    "\n",
    "# 임베딩 벡터 저장소 및 검색기 생성\n",
    "chroma_db = Chroma(\n",
    "    collection_name=\"Subcategory\",\n",
    "    embedding_function=embeddings,\n",
    "    persist_directory=\"../vs\",\n",
    ")\n",
    "\n",
    "data_add = False # 데이터를 벡터스토어에 저장 여부 * 나중에 언어별 추가 필요\n",
    "if data_add:\n",
    "    # 데이터를 벡터스토어에 저장\n",
    "    chroma_db.add_texts(data)"
   ]
  },
  {
   "cell_type": "markdown",
   "id": "c2a84698",
   "metadata": {},
   "source": [
    "### 2\\) 검색기 정의"
   ]
  },
  {
   "cell_type": "code",
   "execution_count": 83,
   "id": "1ddbe714",
   "metadata": {},
   "outputs": [],
   "source": [
    "from kiwipiepy import Kiwi\n",
    "\n",
    "kiwi = Kiwi()\n",
    "\n",
    "retriever = chroma_db.as_retriever(\n",
    "    # search_type=\"mmr\",\n",
    "    search_kwargs={\"k\": 5}\n",
    ")\n",
    "bm25_retriever = BM25Retriever.from_texts(\n",
    "    texts=data,\n",
    "    preprocess_func=lambda x: [t.form for t in kiwi.tokenize(x)],\n",
    "    k=5\n",
    ")\n",
    "ensemble_retriever = EnsembleRetriever(\n",
    "    retrievers=[retriever, bm25_retriever], \n",
    "    weights=[0.5, 0.5]          \n",
    ")"
   ]
  },
  {
   "cell_type": "code",
   "execution_count": 93,
   "id": "72a12f88",
   "metadata": {},
   "outputs": [
    {
     "name": "stdout",
     "output_type": "stream",
     "text": [
      "\n",
      "\n",
      "[여행 조건]\n",
      "{'companion': 'family',\n",
      " 'end_time': '20250804 16:00',\n",
      " 'has_elder': False,\n",
      " 'has_infant': True,\n",
      " 'has_pet': True,\n",
      " 'notes': '아이와 함께 체험할 수 있는 자연놀이터&아이랑 같이 쉬기 좋은 숙소 위주',\n",
      " 'num_people': 3,\n",
      " 'per_person_budget': '200,000 KRW',\n",
      " 'purpose': ['nature', 'culture', 'family'],\n",
      " 'start_time': '20250801 09:00',\n",
      " 'transport': 'car'}\n",
      "\n",
      "[카테고리 검색 결과]\n",
      "['동물원',\n",
      " '산, 고개, 오름, 봉우리',\n",
      " '생가',\n",
      " '고분, 능',\n",
      " '생태자연축제',\n",
      " '피자, 햄버거, 샌드위치 및 유사음식',\n",
      " '자동차/조선/철강 등',\n",
      " '골목길, 문화거리',\n",
      " '생태습지',\n",
      " '스포츠센터, 수련시설']\n",
      "\n",
      "\n",
      "[여행 조건]\n",
      "{'companion': 'couple',\n",
      " 'end_time': '20250911 20:00',\n",
      " 'notes': '별을 볼 수 있는 조용한 야외 공간\\n혼잡하지 않은 한적한 곳 선호',\n",
      " 'purpose': ['relaxation', 'gourmet', 'romance'],\n",
      " 'start_time': '20250910 15:00'}\n",
      "\n",
      "[카테고리 검색 결과]\n",
      "['Opera',\n",
      " '산, 고개, 오름, 봉우리',\n",
      " 'Mixed Leisure Sports',\n",
      " '고분, 능',\n",
      " 'Other Wellness Tourism Sites',\n",
      " '피자, 햄버거, 샌드위치 및 유사음식',\n",
      " 'Other Experiential Tourism Activities',\n",
      " '골목길, 문화거리',\n",
      " '기타행사',\n",
      " '스포츠센터, 수련시설']\n",
      "\n",
      "\n",
      "[여행 조건]\n",
      "{'companion': 'family',\n",
      " 'end_time': '20251005 18:00',\n",
      " 'has_elder': True,\n",
      " 'has_infant': True,\n",
      " 'has_pet': False,\n",
      " 'notes': '아이와 어르신 모두 즐길 수 있는 전통문화 체험이 필요합니다. 편안한 숙소와 쉬는 시간 많은 일정이 좋습니다.',\n",
      " 'num_people': 7,\n",
      " 'per_person_budget': '150,000 KRW',\n",
      " 'purpose': ['culture', 'family'],\n",
      " 'start_time': '20251003 08:30',\n",
      " 'transport': 'car'}\n",
      "\n",
      "[카테고리 검색 결과]\n",
      "['동물원',\n",
      " '산, 고개, 오름, 봉우리',\n",
      " '생가',\n",
      " '고분, 능',\n",
      " '자동차/조선/철강 등',\n",
      " '피자, 햄버거, 샌드위치 및 유사음식',\n",
      " '가족코스',\n",
      " '골목길, 문화거리',\n",
      " '기타행사',\n",
      " '스포츠센터, 수련시설']\n",
      "\n",
      "\n",
      "[여행 조건]\n",
      "{'companion': 'solo',\n",
      " 'end_time': '20250817 16:00',\n",
      " 'notes': '조용한 바닷가 산책과 책 읽기 좋은 숙소, 휴식 위주의 일정, 혼자서 조용히 자연을 느낄 수 있는 장소 중심',\n",
      " 'purpose': ['relaxation'],\n",
      " 'start_time': '20250810 10:00'}\n",
      "\n",
      "[카테고리 검색 결과]\n",
      "['Opera',\n",
      " '산, 고개, 오름, 봉우리',\n",
      " 'Other Performances',\n",
      " '고분, 능',\n",
      " '문',\n",
      " '피자, 햄버거, 샌드위치 및 유사음식',\n",
      " 'Other Craft Experiences',\n",
      " '골목길, 문화거리',\n",
      " '동상',\n",
      " '스포츠센터, 수련시설']\n",
      "\n",
      "\n",
      "[여행 조건]\n",
      "{'companion': 'friends',\n",
      " 'end_time': '20250818 18:00',\n",
      " 'has_elder': False,\n",
      " 'has_infant': False,\n",
      " 'has_pet': True,\n",
      " 'notes': '익스트림 스포츠와 액티비티(짚라인, 패러글라이딩, 서핑)가 밀집된 지역 중심으로 추천',\n",
      " 'num_people': 3,\n",
      " 'per_person_budget': '100,000 KRW',\n",
      " 'purpose': ['adventure', 'gourmet', 'shopping'],\n",
      " 'start_time': '20250816 08:00',\n",
      " 'transport': 'publictransport'}\n",
      "\n",
      "[카테고리 검색 결과]\n",
      "['기타행사',\n",
      " '산, 고개, 오름, 봉우리',\n",
      " 'Other Experiential Tourism Activities',\n",
      " '고분, 능',\n",
      " '무용',\n",
      " '피자, 햄버거, 샌드위치 및 유사음식',\n",
      " '동물원',\n",
      " '골목길, 문화거리',\n",
      " '생태자연축제',\n",
      " '스포츠센터, 수련시설']\n"
     ]
    }
   ],
   "source": [
    "import json\n",
    "from pprint import pprint\n",
    "\n",
    "# 테스트\n",
    "for idx, user in enumerate(users):\n",
    "    print(\"\\n\\n[여행 조건]\")\n",
    "    pprint(user)\n",
    "    retrieved = ensemble_retriever.invoke(json.dumps(user))\n",
    "    print(\"\\n[카테고리 검색 결과]\")\n",
    "    users[idx]['subcategories'] = [docs.page_content for docs in retrieved]\n",
    "    pprint(users[idx]['subcategories'])"
   ]
  },
  {
   "cell_type": "markdown",
   "id": "099ec8d9",
   "metadata": {},
   "source": [
    "## 2. 맞춤형 카테고리 기반 관광지 탐색"
   ]
  },
  {
   "cell_type": "markdown",
   "id": "24ce4582",
   "metadata": {},
   "source": [
    "### 1\\) 카테고리 코드 로드"
   ]
  },
  {
   "cell_type": "code",
   "execution_count": 95,
   "id": "ee7f1b08",
   "metadata": {},
   "outputs": [],
   "source": [
    "def get_category_codes(subcategories:list):\n",
    "    _subcategories = \"'\" + \"', '\".join(subcategories) + \"'\"\n",
    "    sql = f\"\"\"\n",
    "    SELECT lclsSystm1Cd, lclsSystm2Cd, lclsSystm3Cd\n",
    "    FROM lclsSystmCode2\n",
    "    WHERE lclsSystm3Nm IN ({_subcategories})\n",
    "    \"\"\"\n",
    "    return ast.literal_eval(db.run(sql))"
   ]
  },
  {
   "cell_type": "code",
   "execution_count": 96,
   "id": "b3abc3c3",
   "metadata": {},
   "outputs": [
    {
     "data": {
      "text/plain": [
       "[('EV', 'EV01', 'EV010500'),\n",
       " ('EX', 'EX06', 'EX060600'),\n",
       " ('FD', 'FD03', 'FD030200'),\n",
       " ('HS', 'HS01', 'HS010500'),\n",
       " ('HS', 'HS01', 'HS010800'),\n",
       " ('NA', 'NA01', 'NA010100'),\n",
       " ('NA', 'NA03', 'NA030400'),\n",
       " ('VE', 'VE02', 'VE020300'),\n",
       " ('VE', 'VE04', 'VE040100'),\n",
       " ('VE', 'VE10', 'VE100200')]"
      ]
     },
     "execution_count": 96,
     "metadata": {},
     "output_type": "execute_result"
    }
   ],
   "source": [
    "get_category_codes(users[0]['subcategories'])"
   ]
  },
  {
   "cell_type": "code",
   "execution_count": 9,
   "id": "5818e76e",
   "metadata": {},
   "outputs": [
    {
     "data": {
      "text/plain": [
       "AIMessage(content='Hello! How can I help you today?', additional_kwargs={}, response_metadata={'prompt_feedback': {'block_reason': 0, 'safety_ratings': []}, 'finish_reason': 'STOP', 'model_name': 'gemini-2.5-flash', 'safety_ratings': []}, id='run--a55fa48c-2331-49c6-b86d-2442b085aa49-0', usage_metadata={'input_tokens': 2, 'output_tokens': 9, 'total_tokens': 234, 'input_token_details': {'cache_read': 0}, 'output_token_details': {'reasoning': 223}})"
      ]
     },
     "execution_count": 9,
     "metadata": {},
     "output_type": "execute_result"
    }
   ],
   "source": [
    "from langchain_google_genai import ChatGoogleGenerativeAI\n",
    "\n",
    "model = ChatGoogleGenerativeAI(\n",
    "    model=\"gemini-2.5-flash\",\n",
    ")\n",
    "\n",
    "model.invoke(\"Hello\")"
   ]
  },
  {
   "cell_type": "code",
   "execution_count": null,
   "id": "ceb33ac8",
   "metadata": {},
   "outputs": [],
   "source": [
    "from pprint import pprint\n",
    "\n",
    "sql = \"\"\"\n",
    "SELECT lDongRegnNm, lDongSignguNm\n",
    "FROM lDongCode2\n",
    "WHERE lang = 'Kor'\n",
    "\"\"\"\n",
    "lDongCodes = ','.join([\n",
    "    f'{regn} {signgu}' \n",
    "    for regn, signgu in ast.literal_eval(db.run(sql))\n",
    "])\n",
    "pprint(lDongCodes)"
   ]
  }
 ],
 "metadata": {
  "kernelspec": {
   "display_name": "ktrip-bot",
   "language": "python",
   "name": "python3"
  },
  "language_info": {
   "codemirror_mode": {
    "name": "ipython",
    "version": 3
   },
   "file_extension": ".py",
   "mimetype": "text/x-python",
   "name": "python",
   "nbconvert_exporter": "python",
   "pygments_lexer": "ipython3",
   "version": "3.12.10"
  }
 },
 "nbformat": 4,
 "nbformat_minor": 5
}
