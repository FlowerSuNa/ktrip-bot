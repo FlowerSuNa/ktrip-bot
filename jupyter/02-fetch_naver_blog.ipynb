{
 "cells": [
  {
   "cell_type": "code",
   "execution_count": 19,
   "id": "efe8efa4",
   "metadata": {},
   "outputs": [],
   "source": [
    "import requests\n",
    "import os\n",
    "import json\n",
    "\n",
    "from urllib.parse import urlencode, quote\n",
    "from dotenv import load_dotenv\n",
    "from pprint import pprint"
   ]
  },
  {
   "cell_type": "code",
   "execution_count": 7,
   "id": "19afd4fe",
   "metadata": {},
   "outputs": [],
   "source": [
    "load_dotenv()\n",
    "\n",
    "CLIENT_ID = os.environ[\"NAVER_CLIENT_ID\"]\n",
    "SECRET_ID = os.environ[\"NAVER_CLIENT_SECRET\"]\n",
    "\n",
    "BASE_URL = \"https://openapi.naver.com/v1/datalab/search\""
   ]
  },
  {
   "cell_type": "code",
   "execution_count": 23,
   "id": "de110a70",
   "metadata": {},
   "outputs": [],
   "source": [
    "def post_data(endpoint:str, payload:dict):\n",
    "    headers = {\n",
    "        \"X-Naver-Client-Id\": CLIENT_ID,\n",
    "        \"X-Naver-Client-Secret\": SECRET_ID,\n",
    "        \"Content-Type\": \"application/json\"\n",
    "    }\n",
    "    response = requests.post(\n",
    "        BASE_URL + endpoint, \n",
    "        headers=headers, \n",
    "        data=json.dumps(payload)\n",
    "    )\n",
    "\n",
    "    if response.status_code == 200:\n",
    "        return response.json()\n",
    "    else:\n",
    "        print(\"Error Code:\", response.status_code)\n",
    "        return {}"
   ]
  },
  {
   "cell_type": "code",
   "execution_count": 33,
   "id": "b5a6dc9c",
   "metadata": {},
   "outputs": [],
   "source": [
    "def get_data(endpoint:str, params:dict):\n",
    "    headers = {\n",
    "        \"X-Naver-Client-Id\": CLIENT_ID,\n",
    "        \"X-Naver-Client-Secret\": SECRET_ID\n",
    "    }\n",
    "    response = requests.get(\n",
    "        \"https://openapi.naver.com/v1/search/\" + endpoint + \"?\" + urlencode(params), \n",
    "        headers=headers\n",
    "    )\n",
    "\n",
    "    if response.status_code == 200:\n",
    "        return response.json()\n",
    "    else:\n",
    "        print(\"Error Code:\", response.status_code)\n",
    "        return {}"
   ]
  },
  {
   "cell_type": "markdown",
   "id": "88355bbe",
   "metadata": {},
   "source": [
    "## 검색어 트랜드"
   ]
  },
  {
   "cell_type": "code",
   "execution_count": null,
   "id": "3d76b5b0",
   "metadata": {},
   "outputs": [
    {
     "name": "stdout",
     "output_type": "stream",
     "text": [
      "{'endDate': '2025-06-30',\n",
      " 'results': [{'data': [{'period': '2025-01-01', 'ratio': 12.19262},\n",
      "                       {'period': '2025-02-01', 'ratio': 12.65368},\n",
      "                       {'period': '2025-03-01', 'ratio': 40.36885},\n",
      "                       {'period': '2025-04-01', 'ratio': 36.37295},\n",
      "                       {'period': '2025-05-01', 'ratio': 52.86885},\n",
      "                       {'period': '2025-06-01', 'ratio': 100}],\n",
      "              'keywords': ['자전거공원'],\n",
      "              'title': '자전거공원'},\n",
      "             {'data': [{'period': '2025-01-01', 'ratio': 1.17827},\n",
      "                       {'period': '2025-02-01', 'ratio': 2.04918},\n",
      "                       {'period': '2025-03-01', 'ratio': 0.8709},\n",
      "                       {'period': '2025-04-01', 'ratio': 1.63934},\n",
      "                       {'period': '2025-05-01', 'ratio': 1.94672},\n",
      "                       {'period': '2025-06-01', 'ratio': 3.43237}],\n",
      "              'keywords': ['소수박물관'],\n",
      "              'title': '소수박물관'}],\n",
      " 'startDate': '2025-01-01',\n",
      " 'timeUnit': 'month'}\n"
     ]
    }
   ],
   "source": [
    "payload = {\n",
    "    \"startDate\": \"2025-01-01\",\n",
    "    \"endDate\": \"2025-06-30\",\n",
    "    \"timeUnit\": \"month\",\n",
    "    \"keywordGroups\": [\n",
    "        {\n",
    "            \"groupName\": \"자전거공원\",\n",
    "            \"keywords\": [\"자전거공원\"]\n",
    "        },\n",
    "        {\n",
    "            \"groupName\": \"소수박물관\",\n",
    "            \"keywords\": [\"소수박물관\"]\n",
    "        }\n",
    "    ],\n",
    "    # \"device\": \"pc\",\n",
    "    # \"gender\": \"f\"\n",
    "    \"ages\": [\"2\", \"3\", \"4\", \"5\", \"6\", \"7\", \"8\", \"9\"],\n",
    "}\n",
    "data = post_data('', payload)\n",
    "pprint(data)"
   ]
  },
  {
   "cell_type": "markdown",
   "id": "921b2f07",
   "metadata": {},
   "source": [
    "## 블로그 검색"
   ]
  },
  {
   "cell_type": "code",
   "execution_count": 35,
   "metadata": {},
   "outputs": [
    {
     "name": "stdout",
     "output_type": "stream",
     "text": [
      "{'display': 10,\n",
      " 'items': [{'bloggerlink': 'https://sweetit.co.kr/',\n",
      "            'bloggername': 'so sweet',\n",
      "            'description': '별천지공원 (증평군 증평읍) 보타사(증평) (증평군 증평읍) 정후사(금당서원) (증평군 '\n",
      "                           '도안면) 증평 장이익어가는마을 (증평군 증평읍) 증평 <b>자전거공원</b> (증평군 '\n",
      "                           '증평읍) 증평 에듀팜(블랙스톤 벨포레... ',\n",
      "            'link': 'https://sweetit.co.kr/11067389',\n",
      "            'postdate': '20250703',\n",
      "            'title': '증평군 증평읍 토방촌 한식 - 달콤한여행'},\n",
      "           {'bloggerlink': 'blog.naver.com/hotelscombnd',\n",
      "            'bloggername': '호텔스컴바인 공식 블로그',\n",
      "            'description': '주변에 연암 지질 생태공원과 좌구산 휴양림, <b>자전거 공원</b> 등 볼거리도 가득한 '\n",
      "                           '이곳, 휴양과 체험, 물놀이까지 모두 놓치고 싶지 않다면, 벨포레 리조트를 추천드려요! '\n",
      "                           '실제 투숙 고객 후기 “뷰도 좋고 깨끗하고... ',\n",
      "            'link': 'https://blog.naver.com/hotelscombnd/223920316993',\n",
      "            'postdate': '20250703',\n",
      "            'title': '서울 근교 아이랑 가볼 만한 리조트 추천 3 | 마이다스호텔... '},\n",
      "           {'bloggerlink': 'https://sweetit.co.kr/',\n",
      "            'bloggername': 'so sweet',\n",
      "            'description': '한강 드론공원 인근에는 광나루<b>자전거공원</b>, 하성운과 함께하는 숲, 영탁 1호 '\n",
      "                           '숲, 한강공원 광나루... 천호자전거거리 (서울 강동구) 구강사 (서울특별시 강동구) '\n",
      "                           '광나루한강공원 (서울특별시 강동구)... ',\n",
      "            'link': 'https://sweetit.co.kr/11072952',\n",
      "            'postdate': '20250703',\n",
      "            'title': '서울특별시 강동구 광나루한강<b>공원</b> 광나루모형비행장... '},\n",
      "           {'bloggerlink': 'https://sweetit.co.kr/',\n",
      "            'bloggername': 'so sweet',\n",
      "            'description': '별천지공원 (증평군 증평읍) 보타사(증평) (증평군 증평읍) 정후사(금당서원) (증평군 '\n",
      "                           '도안면) 증평 장이익어가는마을 (증평군 증평읍) 증평 <b>자전거공원</b> (증평군 '\n",
      "                           '증평읍) 증평 에듀팜(블랙스톤 벨포레... ',\n",
      "            'link': 'https://sweetit.co.kr/11075151',\n",
      "            'postdate': '20250703',\n",
      "            'title': '증평군 증평읍 증평 율리손두부 한식 - 달콤한여행'},\n",
      "           {'bloggerlink': 'https://sweetit.co.kr/',\n",
      "            'bloggername': 'so sweet',\n",
      "            'description': '별천지공원 (증평군 증평읍) 보타사(증평) (증평군 증평읍) 정후사(금당서원) (증평군 '\n",
      "                           '도안면) 증평 장이익어가는마을 (증평군 증평읍) 증평 <b>자전거공원</b> (증평군 '\n",
      "                           '증평읍) 증평 에듀팜(블랙스톤 벨포레... ',\n",
      "            'link': 'https://sweetit.co.kr/11074455',\n",
      "            'postdate': '20250703',\n",
      "            'title': '증평군 도안면 벨포레 미디어아트센터 전시관 - 달콤한여행'},\n",
      "           {'bloggerlink': 'https://sweetit.co.kr/',\n",
      "            'bloggername': 'so sweet',\n",
      "            'description': '별천지공원 (증평군 증평읍) 보타사(증평) (증평군 증평읍) 정후사(금당서원) (증평군 '\n",
      "                           '도안면) 증평 장이익어가는마을 (증평군 증평읍) 증평 <b>자전거공원</b> (증평군 '\n",
      "                           '증평읍) 증평 에듀팜(블랙스톤 벨포레... ',\n",
      "            'link': 'https://sweetit.co.kr/11074441',\n",
      "            'postdate': '20250702',\n",
      "            'title': '증평군 도안면 벨포레 모토아레나 카트 - 달콤한여행'},\n",
      "           {'bloggerlink': 'https://sweetit.co.kr/',\n",
      "            'bloggername': 'so sweet',\n",
      "            'description': '별천지공원 (증평군 증평읍) 보타사(증평) (증평군 증평읍) 정후사(금당서원) (증평군 '\n",
      "                           '도안면) 증평 장이익어가는마을 (증평군 증평읍) 증평 <b>자전거공원</b> (증평군 '\n",
      "                           '증평읍) 증평 에듀팜(블랙스톤 벨포레... ',\n",
      "            'link': 'https://sweetit.co.kr/11073008',\n",
      "            'postdate': '20250702',\n",
      "            'title': '증평군 증평읍 증평실내수영장 수영 - 달콤한여행'},\n",
      "           {'bloggerlink': 'blog.naver.com/owntender',\n",
      "            'bloggername': '갱이의 인터미션',\n",
      "            'description': '<b>자전거공원</b>이 있을줄이야... 엄마 고향이 여긴데요 ㅋㅋ 그래서 종종 '\n",
      "                           '다녀옵니다. 증평 가볼만한곳을... 자전거 타며 교통도 배우고 길도건너고 좋네요 인스타에서 '\n",
      "                           '넘 예쁘게 찍었던데 저는 .....역시 사실적임... ',\n",
      "            'link': 'https://blog.naver.com/owntender/223918780473',\n",
      "            'postdate': '20250702',\n",
      "            'title': '충북 :: 증평 가볼만한곳, 미니미마을 <b>자전거공원</b>&amp;좌구산... '},\n",
      "           {'bloggerlink': 'blog.naver.com/kimfall-01',\n",
      "            'bloggername': '김가을 님의 다이어리',\n",
      "            'description': '지방에 사는 나로써는 서울 자전거길에 한번쯤은 가보고 싶은 생각을 항상 가지고 있었다. '\n",
      "                           '약간의... 광나루 <b>자전거 공원</b>에 도착했다. 타면서 역시 서울이 길이 좋구나 '\n",
      "                           '계속 느꼈다. . . [광나루 <b>자전거공원</b>... ',\n",
      "            'link': 'https://blog.naver.com/kimfall-01/223918618223',\n",
      "            'postdate': '20250702',\n",
      "            'title': '[국토종주] 국토종주 4일차 (능내역/광나루<b>자전거공원</b>/뚝섬... '},\n",
      "           {'bloggerlink': 'blog.naver.com/travelnote77',\n",
      "            'bloggername': '트래블노트',\n",
      "            'description': '경주시에는 자전거를 사랑하는 모든 이들을 위한 특별한 공간, 바로 국내 최대 규모의 공원형 '\n",
      "                           '자전거 관광 명소, 경주 <b>자전거공원</b>이 있습니다! 이곳은 자전거의 스릴과 재미를 '\n",
      "                           '안전하게 만끽할 수 있도록... ',\n",
      "            'link': 'https://blog.naver.com/travelnote77/223918605776',\n",
      "            'postdate': '20250702',\n",
      "            'title': '펌프트랙에서 즐기는 스릴있는 라이딩! 경주 <b>자전거공원</b>'}],\n",
      " 'lastBuildDate': 'Thu, 03 Jul 2025 13:34:35 +0900',\n",
      " 'start': 1,\n",
      " 'total': 15354}\n"
     ]
    }
   ],
   "source": [
    "params = {\n",
    "    \"query\": \"자전거공원\",   # 검색어\n",
    "    \"display\": 10,          # 검색 결과 개수\n",
    "    \"start\": 1,             # 검색 시작 위치\n",
    "    \"sort\": \"date\",         # 날짜순으로 내림차순 정렬\n",
    "    # \"sort\": \"sim\",        # 정확도순으로 내림차순 정렬\n",
    "}\n",
    "data = get_data('blog.json', params)\n",
    "pprint(data)"
   ]
  },
  {
   "cell_type": "code",
   "execution_count": null,
   "id": "e0203dbb",
   "metadata": {},
   "outputs": [],
   "source": []
  },
  {
   "cell_type": "code",
   "execution_count": null,
   "id": "8459ef72",
   "metadata": {},
   "outputs": [],
   "source": []
  },
  {
   "cell_type": "code",
   "execution_count": null,
   "id": "10c7846a",
   "metadata": {},
   "outputs": [],
   "source": []
  },
  {
   "cell_type": "code",
   "execution_count": null,
   "id": "87175587",
   "metadata": {},
   "outputs": [],
   "source": []
  }
 ],
 "metadata": {
  "kernelspec": {
   "display_name": "ktrip-bot",
   "language": "python",
   "name": "python3"
  },
  "language_info": {
   "codemirror_mode": {
    "name": "ipython",
    "version": 3
   },
   "file_extension": ".py",
   "mimetype": "text/x-python",
   "name": "python",
   "nbconvert_exporter": "python",
   "pygments_lexer": "ipython3",
   "version": "3.12.10"
  }
 },
 "nbformat": 4,
 "nbformat_minor": 5
}
